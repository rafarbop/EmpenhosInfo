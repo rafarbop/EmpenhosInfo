{
 "cells": [
  {
   "cell_type": "code",
   "execution_count": 88,
   "id": "5311d106-a8cf-4b30-8690-48d5ea00d65d",
   "metadata": {},
   "outputs": [],
   "source": [
    "import requests,json"
   ]
  },
  {
   "cell_type": "code",
   "execution_count": 17,
   "id": "b1ec103b-b29d-494e-9324-6383c6350f5e",
   "metadata": {},
   "outputs": [],
   "source": [
    "from bs4 import BeautifulSoup"
   ]
  },
  {
   "cell_type": "code",
   "execution_count": 18,
   "id": "49c50973-4dd4-483f-9236-2d4bb69ae89c",
   "metadata": {},
   "outputs": [],
   "source": [
    "url = \"https://www.portaltransparencia.gov.br/despesas/pagamento/\""
   ]
  },
  {
   "cell_type": "code",
   "execution_count": 19,
   "id": "97bf0013-e727-4ce8-999c-d7f91c096d38",
   "metadata": {},
   "outputs": [],
   "source": [
    "r = requests.get(url+\"158953\"+\"26405\"+\"2022OB800574\",timeout=(3.05, 27))"
   ]
  },
  {
   "cell_type": "code",
   "execution_count": 20,
   "id": "66c9d689-3ae7-46f7-ba8d-cd40ca3509d0",
   "metadata": {},
   "outputs": [
    {
     "data": {
      "text/plain": [
       "200"
      ]
     },
     "execution_count": 20,
     "metadata": {},
     "output_type": "execute_result"
    }
   ],
   "source": [
    "r.status_code"
   ]
  },
  {
   "cell_type": "code",
   "execution_count": 21,
   "id": "834cc99e-589d-48f1-a1ee-6d7246b55fcb",
   "metadata": {},
   "outputs": [],
   "source": [
    "soup = BeautifulSoup(r.text, \"html.parser\")"
   ]
  },
  {
   "cell_type": "code",
   "execution_count": 22,
   "id": "cf7fbc1e-9733-41af-a786-71abde57f88a",
   "metadata": {},
   "outputs": [],
   "source": [
    "OB = {}"
   ]
  },
  {
   "cell_type": "code",
   "execution_count": 23,
   "id": "fa685aed-9df1-4b01-8228-35e176c42ef4",
   "metadata": {},
   "outputs": [],
   "source": [
    "OB['numero'] = soup.select_one(\"body > main > div:nth-child(3) > section.dados-tabelados > div:nth-child(1) > div:nth-child(1) > span\").text.strip()"
   ]
  },
  {
   "cell_type": "code",
   "execution_count": 24,
   "id": "83f8c3b9-7034-44e7-8740-7a740c3ab510",
   "metadata": {},
   "outputs": [],
   "source": [
    "OB['data'] = soup.select_one(\"body > main > div:nth-child(3) > section.dados-tabelados > div:nth-child(1) > div:nth-child(2) > span\").text.strip()"
   ]
  },
  {
   "cell_type": "code",
   "execution_count": 25,
   "id": "dfe8caa8-a6d1-4796-b59b-ab0c9c994fe3",
   "metadata": {},
   "outputs": [],
   "source": [
    "OB['valor'] = soup.select_one(\"body > main > div:nth-child(3) > section.dados-tabelados > div:nth-child(3) > div.col-xs-12.col-sm-6 > span\").text.strip()"
   ]
  },
  {
   "cell_type": "code",
   "execution_count": 26,
   "id": "3fab7ee2-3d46-4489-a8bc-8c8bcc249f5b",
   "metadata": {},
   "outputs": [],
   "source": [
    "OB['observacao'] = soup.select_one(\"body > main > div:nth-child(3) > section.dados-tabelados > div:nth-child(5) > div > span\").text.strip()"
   ]
  },
  {
   "cell_type": "code",
   "execution_count": 27,
   "id": "75ab1f1e-ed91-42d6-b0f3-f37dc2923615",
   "metadata": {},
   "outputs": [],
   "source": [
    "OB['cnpjFavorecido'] = soup.select_one(\"#collapse-1 > div > div > div.col-xs-12.col-sm-3 > span > a\").text.strip()"
   ]
  },
  {
   "cell_type": "code",
   "execution_count": 28,
   "id": "9ef1c9bd-78e9-4b0d-918d-4f885b955f35",
   "metadata": {},
   "outputs": [],
   "source": [
    "OB['nomeFavorecido'] = soup.select_one(\"#collapse-1 > div > div > div.col-xs-12.col-sm-9 > span\").text.strip()"
   ]
  },
  {
   "cell_type": "code",
   "execution_count": 29,
   "id": "ab41b987-32f3-48b2-b52b-d9168bf4e1db",
   "metadata": {},
   "outputs": [],
   "source": [
    "OB['processo'] = soup.select_one(\"body > main > div:nth-child(3) > section:nth-child(4) > div.bloco > div > div > span\").text.strip()"
   ]
  },
  {
   "cell_type": "code",
   "execution_count": 78,
   "id": "e78fcb48-681a-43a4-befe-3e1dfbbded02",
   "metadata": {},
   "outputs": [],
   "source": [
    "url_curl = f'https://www.portaltransparencia.gov.br/despesas/documento/documentos-relacionados/resultado?paginacaoSimples=true&tamanhoPagina=15&offset=0&direcaoOrdenacao=asc&colunaOrdenacao=fase&colunasSelecionadas=data%2Cfase%2CdocumentoResumido%2Cespecie&fase=Empenho&codigo=158953264052021NE000116&_=1656178891541'"
   ]
  },
  {
   "cell_type": "code",
   "execution_count": 79,
   "id": "9e79bf1c-d565-4c15-9ba2-eaed26d79c3f",
   "metadata": {},
   "outputs": [
    {
     "data": {
      "text/plain": [
       "{'draw': 0,\n",
       " 'recordsTotal': 3,\n",
       " 'recordsFiltered': 3,\n",
       " 'data': [{'data': '31/12/2021',\n",
       "   'flgExisteDocumentoRelacionadoNoDM': True,\n",
       "   'fase': 'LiquidaÃ§Ã£o',\n",
       "   'documento': '158953264052021NS003516',\n",
       "   'documentoResumido': '2021NS003516',\n",
       "   'especie': '',\n",
       "   'orgaoSuperior': 'MinistÃ©rio da EducaÃ§Ã£o',\n",
       "   'orgaoVinculado': 'Instituto Federal do CearÃ¡',\n",
       "   'unidadeGestora': 'CAMPUS TABULEIRO DO NORTE/IFCE',\n",
       "   'elementoDespesa': 'MÃºltiplo',\n",
       "   'favorecido': 'Sem informaÃ§Ã£o',\n",
       "   'valor': ''},\n",
       "  {'data': '24/05/2022',\n",
       "   'flgExisteDocumentoRelacionadoNoDM': True,\n",
       "   'fase': 'LiquidaÃ§Ã£o',\n",
       "   'documento': '158953264052022NS001193',\n",
       "   'documentoResumido': '2022NS001193',\n",
       "   'especie': '',\n",
       "   'orgaoSuperior': 'MinistÃ©rio da EducaÃ§Ã£o',\n",
       "   'orgaoVinculado': 'Instituto Federal do CearÃ¡',\n",
       "   'unidadeGestora': 'CAMPUS TABULEIRO DO NORTE/IFCE',\n",
       "   'elementoDespesa': 'Material, Bem ou ServiÃ§o para DistribuiÃ§Ã£o Gr',\n",
       "   'favorecido': 'REIS INDUSTRIA E COMERCIO DE BOLSAS E PROMOCIONAIS EIRE',\n",
       "   'valor': ''},\n",
       "  {'data': '01/06/2022',\n",
       "   'flgExisteDocumentoRelacionadoNoDM': True,\n",
       "   'fase': 'Pagamento',\n",
       "   'documento': '158953264052022OB800574',\n",
       "   'documentoResumido': '2022OB800574',\n",
       "   'especie': 'Original',\n",
       "   'orgaoSuperior': 'MinistÃ©rio da EducaÃ§Ã£o',\n",
       "   'orgaoVinculado': 'Instituto Federal do CearÃ¡',\n",
       "   'unidadeGestora': 'CAMPUS TABULEIRO DO NORTE/IFCE',\n",
       "   'elementoDespesa': 'Material, Bem ou ServiÃ§o para DistribuiÃ§Ã£o Gr',\n",
       "   'favorecido': 'REIS INDUSTRIA E COMERCIO DE BOLSAS E PROMOCIONAIS EIRE',\n",
       "   'valor': '40.100,00'}],\n",
       " 'error': None}"
      ]
     },
     "execution_count": 79,
     "metadata": {},
     "output_type": "execute_result"
    }
   ],
   "source": [
    "get_curl_data(url_curl)"
   ]
  },
  {
   "cell_type": "code",
   "execution_count": 134,
   "id": "9c3d8370-db42-4b9d-a337-eb26fb676ef2",
   "metadata": {},
   "outputs": [],
   "source": [
    "url_pagamentos = \"https://www.portaltransparencia.gov.br/despesas/documento/documentos-relacionados/resultado?paginacaoSimples=true&tamanhoPagina=15&offset=0&direcaoOrdenacao=asc&colunaOrdenacao=fase&colunasSelecionadas=data%2Cfase%2CdocumentoResumido%2Cespecie&fase=Empenho&codigo=158953264052021NE000116\""
   ]
  },
  {
   "cell_type": "code",
   "execution_count": 135,
   "id": "0501afcd-461f-4d07-8d68-9a20ceedd9e0",
   "metadata": {},
   "outputs": [
    {
     "data": {
      "text/plain": [
       "[{'documento': '2022OB800574',\n",
       "  'data': '01/06/2022',\n",
       "  'favorecido': 'REIS INDUSTRIA E COMERCIO DE BOLSAS E PROMOCIONAIS EIRE',\n",
       "  'valor': '40.100,00'}]"
      ]
     },
     "execution_count": 135,
     "metadata": {},
     "output_type": "execute_result"
    }
   ],
   "source": [
    "get_pagamentos(url_pagamentos)"
   ]
  },
  {
   "cell_type": "code",
   "execution_count": 131,
   "id": "a273be23-39fb-4145-9e53-e1a26f5e9311",
   "metadata": {},
   "outputs": [],
   "source": [
    "def get_pagamentos(url):\n",
    "    import json\n",
    "\n",
    "    pagamentos = []\n",
    "    r = requests.get(url)\n",
    "    if r.status_code == 200:\n",
    "        try:\n",
    "            documentosRelacionados = json.loads(r.text)\n",
    "            if len(documentosRelacionados['data']) > 0:\n",
    "                documentos = documentosRelacionados['data']\n",
    "                for documento in documentos:\n",
    "                    if documento['fase'] == 'Pagamento':\n",
    "                        pagamentos.append(\n",
    "                            {\n",
    "                                'documento': documento['documentoResumido'],\n",
    "                                'data': documento['data'],\n",
    "                                'favorecido': documento['favorecido'],\n",
    "                                'valor': documento['valor']\n",
    "                            }\n",
    "                        )\n",
    "        except Exception as erro:\n",
    "            return {\"erro\": erro}\n",
    "    else:\n",
    "        return {\"erro\": r.status_code}\n",
    "\n",
    "    return pagamentos"
   ]
  },
  {
   "cell_type": "code",
   "execution_count": 58,
   "id": "3ad91212-a0d9-4e79-9e91-c938f9d9278c",
   "metadata": {},
   "outputs": [],
   "source": [
    "def get_curl_data(url):\n",
    "    import pycurl\n",
    "    import certifi\n",
    "    import json\n",
    "    from io import BytesIO\n",
    "\n",
    "    buffer = BytesIO()\n",
    "    c = pycurl.Curl()\n",
    "    c.setopt(c.URL, url)\n",
    "    c.setopt(c.WRITEDATA, buffer)\n",
    "    c.setopt(c.CAINFO, certifi.where())\n",
    "    c.perform()\n",
    "    c.close()\n",
    "\n",
    "    body = buffer.getvalue()\n",
    "    # Body is a byte string.\n",
    "    # We have to know the encoding in order to print it to a text file\n",
    "    # such as standard output.\n",
    "    return json.loads(body.decode('iso-8859-1'))"
   ]
  },
  {
   "cell_type": "code",
   "execution_count": null,
   "id": "a9b0cc51-216f-4d52-87c3-11a6eeb447dd",
   "metadata": {},
   "outputs": [],
   "source": []
  }
 ],
 "metadata": {
  "kernelspec": {
   "display_name": "Python 3 (ipykernel)",
   "language": "python",
   "name": "python3"
  },
  "language_info": {
   "codemirror_mode": {
    "name": "ipython",
    "version": 3
   },
   "file_extension": ".py",
   "mimetype": "text/x-python",
   "name": "python",
   "nbconvert_exporter": "python",
   "pygments_lexer": "ipython3",
   "version": "3.10.4"
  }
 },
 "nbformat": 4,
 "nbformat_minor": 5
}
